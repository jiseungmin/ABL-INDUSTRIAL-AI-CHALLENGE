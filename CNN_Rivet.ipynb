{
 "cells": [
  {
   "cell_type": "code",
   "execution_count": 1,
   "metadata": {},
   "outputs": [],
   "source": [
    "import os\n",
    "import cv2\n",
    "import numpy as np\n",
    "import tensorflow as tf\n",
    "import matplotlib.pyplot as plt\n",
    "from keras.preprocessing import image\n",
    "from tensorflow.keras.optimizers import RMSprop\n",
    "from sklearn.model_selection import train_test_split\n",
    "from tensorflow.keras.preprocessing.image import ImageDataGenerator"
   ]
  },
  {
   "cell_type": "code",
   "execution_count": 2,
   "metadata": {},
   "outputs": [
    {
     "name": "stdout",
     "output_type": "stream",
     "text": [
      "Found 3024 images belonging to 2 classes.\n",
      "Found 335 images belonging to 2 classes.\n"
     ]
    }
   ],
   "source": [
    "train_datagen = ImageDataGenerator(rescale=1/255, validation_split=0.1)\n",
    "\n",
    "train_generator = train_datagen.flow_from_directory(\n",
    "  '/Users/jiseungmin/Desktop/chunnamAIcontest/dataset',\n",
    "  target_size=(300, 300),\n",
    "  batch_size=128,\n",
    "  shuffle=True,\n",
    "  class_mode='binary',\n",
    "  subset='training'\n",
    ")\n",
    "\n",
    "validation_generator = train_datagen.flow_from_directory(\n",
    "  '/Users/jiseungmin/Desktop/chunnamAIcontest/dataset/',\n",
    "  target_size=(300, 300),\n",
    "  batch_size=128,\n",
    "  shuffle=True,\n",
    "  class_mode='binary',\n",
    "  subset='validation',\n",
    ")\n"
   ]
  },
  {
   "cell_type": "code",
   "execution_count": 3,
   "metadata": {},
   "outputs": [
    {
     "name": "stdout",
     "output_type": "stream",
     "text": [
      "Metal device set to: Apple M1\n",
      "\n",
      "systemMemory: 16.00 GB\n",
      "maxCacheSize: 5.33 GB\n",
      "\n",
      "Model: \"sequential\"\n",
      "_________________________________________________________________\n",
      " Layer (type)                Output Shape              Param #   \n",
      "=================================================================\n",
      " conv2d (Conv2D)             (None, 298, 298, 16)      448       \n",
      "                                                                 \n",
      " max_pooling2d (MaxPooling2D  (None, 149, 149, 16)     0         \n",
      " )                                                               \n",
      "                                                                 \n",
      " dropout (Dropout)           (None, 149, 149, 16)      0         \n",
      "                                                                 \n",
      " conv2d_1 (Conv2D)           (None, 147, 147, 32)      4640      \n",
      "                                                                 \n",
      " max_pooling2d_1 (MaxPooling  (None, 73, 73, 32)       0         \n",
      " 2D)                                                             \n",
      "                                                                 \n",
      " dropout_1 (Dropout)         (None, 73, 73, 32)        0         \n",
      "                                                                 \n",
      " conv2d_2 (Conv2D)           (None, 71, 71, 64)        18496     \n",
      "                                                                 \n",
      " max_pooling2d_2 (MaxPooling  (None, 35, 35, 64)       0         \n",
      " 2D)                                                             \n",
      "                                                                 \n",
      " dropout_2 (Dropout)         (None, 35, 35, 64)        0         \n",
      "                                                                 \n",
      " conv2d_3 (Conv2D)           (None, 33, 33, 64)        36928     \n",
      "                                                                 \n",
      " max_pooling2d_3 (MaxPooling  (None, 16, 16, 64)       0         \n",
      " 2D)                                                             \n",
      "                                                                 \n",
      " dropout_3 (Dropout)         (None, 16, 16, 64)        0         \n",
      "                                                                 \n",
      " conv2d_4 (Conv2D)           (None, 14, 14, 64)        36928     \n",
      "                                                                 \n",
      " max_pooling2d_4 (MaxPooling  (None, 7, 7, 64)         0         \n",
      " 2D)                                                             \n",
      "                                                                 \n",
      " dropout_4 (Dropout)         (None, 7, 7, 64)          0         \n",
      "                                                                 \n",
      " flatten (Flatten)           (None, 3136)              0         \n",
      "                                                                 \n",
      " dense (Dense)               (None, 512)               1606144   \n",
      "                                                                 \n",
      " dropout_5 (Dropout)         (None, 512)               0         \n",
      "                                                                 \n",
      " dense_1 (Dense)             (None, 1)                 513       \n",
      "                                                                 \n",
      "=================================================================\n",
      "Total params: 1,704,097\n",
      "Trainable params: 1,704,097\n",
      "Non-trainable params: 0\n",
      "_________________________________________________________________\n"
     ]
    },
    {
     "name": "stderr",
     "output_type": "stream",
     "text": [
      "2022-12-16 17:59:34.056874: I tensorflow/core/common_runtime/pluggable_device/pluggable_device_factory.cc:305] Could not identify NUMA node of platform GPU ID 0, defaulting to 0. Your kernel may not have been built with NUMA support.\n",
      "2022-12-16 17:59:34.057027: I tensorflow/core/common_runtime/pluggable_device/pluggable_device_factory.cc:271] Created TensorFlow device (/job:localhost/replica:0/task:0/device:GPU:0 with 0 MB memory) -> physical PluggableDevice (device: 0, name: METAL, pci bus id: <undefined>)\n"
     ]
    }
   ],
   "source": [
    "model = tf.keras.models.Sequential([\n",
    "    # The first convolution\n",
    "    tf.keras.layers.Conv2D(16, (3, 3), activation='relu', input_shape=(300, 300, 3)),\n",
    "    tf.keras.layers.MaxPool2D(2, 2),\n",
    "    tf.keras.layers.Dropout(0.5),\n",
    "    # The second convolution\n",
    "    tf.keras.layers.Conv2D(32, (3, 3), activation='relu'),\n",
    "    tf.keras.layers.MaxPool2D(2, 2),\n",
    "    tf.keras.layers.Dropout(0.5),\n",
    "    # The third convolution\n",
    "    tf.keras.layers.Conv2D(64, (3, 3), activation='relu'),\n",
    "    tf.keras.layers.MaxPool2D(2, 2),\n",
    "    tf.keras.layers.Dropout(0.5),\n",
    "    # The fourth convolution\n",
    "    tf.keras.layers.Conv2D(64, (3, 3), activation='relu'),\n",
    "    tf.keras.layers.MaxPool2D(2, 2),\n",
    "    tf.keras.layers.Dropout(0.5),\n",
    "    # The fifth convolution\n",
    "    tf.keras.layers.Conv2D(64, (3, 3), activation='relu'),\n",
    "    tf.keras.layers.MaxPool2D(2, 2),\n",
    "    tf.keras.layers.Dropout(0.5),\n",
    "    # Flatten\n",
    "    tf.keras.layers.Flatten(),\n",
    "    # 512 Neuron (Hidden layer)\n",
    "    tf.keras.layers.Dense(512, activation='relu'),\n",
    "    tf.keras.layers.Dropout(0.5),\n",
    "    # 1 Output neuron\n",
    "    tf.keras.layers.Dense(1, activation='sigmoid')\n",
    "])\n",
    "\n",
    "model.summary()"
   ]
  },
  {
   "cell_type": "code",
   "execution_count": 4,
   "metadata": {},
   "outputs": [
    {
     "name": "stderr",
     "output_type": "stream",
     "text": [
      "/Users/jiseungmin/miniforge3/envs/tf/lib/python3.8/site-packages/keras/optimizers/optimizer_v2/rmsprop.py:135: UserWarning: The `lr` argument is deprecated, use `learning_rate` instead.\n",
      "  super(RMSprop, self).__init__(name, **kwargs)\n"
     ]
    }
   ],
   "source": [
    "model.compile(loss='binary_crossentropy',\n",
    "            optimizer=RMSprop(lr=0.001),\n",
    "            metrics=['accuracy'])"
   ]
  },
  {
   "cell_type": "code",
   "execution_count": 5,
   "metadata": {},
   "outputs": [
    {
     "data": {
      "text/plain": [
       "{'bad': 0, 'pass': 1}"
      ]
     },
     "execution_count": 5,
     "metadata": {},
     "output_type": "execute_result"
    }
   ],
   "source": [
    "train_generator.class_indices"
   ]
  },
  {
   "cell_type": "code",
   "execution_count": 6,
   "metadata": {},
   "outputs": [
    {
     "name": "stdout",
     "output_type": "stream",
     "text": [
      "Epoch 1/50\n"
     ]
    },
    {
     "name": "stderr",
     "output_type": "stream",
     "text": [
      "2022-12-16 17:59:34.441944: W tensorflow/core/platform/profile_utils/cpu_utils.cc:128] Failed to get CPU frequency: 0 Hz\n",
      "2022-12-16 17:59:34.877613: I tensorflow/core/grappler/optimizers/custom_graph_optimizer_registry.cc:113] Plugin optimizer for device_type GPU is enabled.\n"
     ]
    },
    {
     "name": "stdout",
     "output_type": "stream",
     "text": [
      "8/8 [==============================] - ETA: 0s - loss: 0.2168 - accuracy: 0.9365"
     ]
    },
    {
     "name": "stderr",
     "output_type": "stream",
     "text": [
      "2022-12-16 17:59:42.374858: I tensorflow/core/grappler/optimizers/custom_graph_optimizer_registry.cc:113] Plugin optimizer for device_type GPU is enabled.\n"
     ]
    },
    {
     "name": "stdout",
     "output_type": "stream",
     "text": [
      "8/8 [==============================] - 9s 987ms/step - loss: 0.2168 - accuracy: 0.9365 - val_loss: 0.4759 - val_accuracy: 1.0000\n",
      "Epoch 2/50\n",
      "8/8 [==============================] - 7s 907ms/step - loss: 0.0681 - accuracy: 0.9764 - val_loss: 0.3644 - val_accuracy: 1.0000\n",
      "Epoch 3/50\n",
      "8/8 [==============================] - 7s 940ms/step - loss: 0.0474 - accuracy: 0.9857 - val_loss: 0.4677 - val_accuracy: 1.0000\n",
      "Epoch 4/50\n",
      "8/8 [==============================] - 7s 912ms/step - loss: 0.0356 - accuracy: 0.9854 - val_loss: 0.4338 - val_accuracy: 1.0000\n",
      "Epoch 5/50\n",
      "8/8 [==============================] - 7s 938ms/step - loss: 0.0266 - accuracy: 0.9928 - val_loss: 0.3146 - val_accuracy: 1.0000\n",
      "Epoch 6/50\n",
      "8/8 [==============================] - 7s 903ms/step - loss: 0.0277 - accuracy: 0.9898 - val_loss: 0.2357 - val_accuracy: 0.9313\n",
      "Epoch 7/50\n",
      "8/8 [==============================] - 7s 908ms/step - loss: 0.0446 - accuracy: 0.9857 - val_loss: 0.2905 - val_accuracy: 0.9731\n",
      "Epoch 8/50\n",
      "8/8 [==============================] - 7s 914ms/step - loss: 0.0339 - accuracy: 0.9883 - val_loss: 0.1972 - val_accuracy: 0.9761\n",
      "Epoch 9/50\n",
      "8/8 [==============================] - 7s 927ms/step - loss: 0.0181 - accuracy: 0.9918 - val_loss: 0.2270 - val_accuracy: 1.0000\n",
      "Epoch 10/50\n",
      "8/8 [==============================] - 7s 913ms/step - loss: 0.0234 - accuracy: 0.9893 - val_loss: 0.2570 - val_accuracy: 0.9701\n",
      "Epoch 11/50\n",
      "8/8 [==============================] - 8s 967ms/step - loss: 0.0265 - accuracy: 0.9922 - val_loss: 0.3194 - val_accuracy: 0.9881\n",
      "Epoch 12/50\n",
      "8/8 [==============================] - 7s 903ms/step - loss: 0.0163 - accuracy: 0.9932 - val_loss: 0.1754 - val_accuracy: 0.9910\n",
      "Epoch 13/50\n",
      "8/8 [==============================] - 7s 894ms/step - loss: 0.0126 - accuracy: 0.9971 - val_loss: 0.1393 - val_accuracy: 0.9970\n",
      "Epoch 14/50\n",
      "8/8 [==============================] - 7s 899ms/step - loss: 0.0152 - accuracy: 0.9922 - val_loss: 0.1418 - val_accuracy: 0.9970\n",
      "Epoch 15/50\n",
      "8/8 [==============================] - 7s 891ms/step - loss: 0.0114 - accuracy: 0.9932 - val_loss: 0.1136 - val_accuracy: 0.9970\n",
      "Epoch 16/50\n",
      "8/8 [==============================] - 7s 922ms/step - loss: 0.0187 - accuracy: 0.9932 - val_loss: 0.1461 - val_accuracy: 1.0000\n",
      "Epoch 17/50\n",
      "8/8 [==============================] - 7s 895ms/step - loss: 0.0079 - accuracy: 0.9951 - val_loss: 0.0789 - val_accuracy: 1.0000\n",
      "Epoch 18/50\n",
      "8/8 [==============================] - 7s 915ms/step - loss: 0.0083 - accuracy: 0.9971 - val_loss: 0.1027 - val_accuracy: 1.0000\n",
      "Epoch 19/50\n",
      "8/8 [==============================] - 7s 898ms/step - loss: 0.0033 - accuracy: 0.9980 - val_loss: 0.0607 - val_accuracy: 1.0000\n",
      "Epoch 20/50\n",
      "8/8 [==============================] - 7s 916ms/step - loss: 0.0053 - accuracy: 0.9980 - val_loss: 0.0172 - val_accuracy: 0.9970\n",
      "Epoch 21/50\n",
      "8/8 [==============================] - 7s 909ms/step - loss: 0.0028 - accuracy: 0.9980 - val_loss: 0.0045 - val_accuracy: 1.0000\n",
      "Epoch 22/50\n",
      "8/8 [==============================] - 7s 922ms/step - loss: 0.0064 - accuracy: 0.9980 - val_loss: 0.0111 - val_accuracy: 1.0000\n",
      "Epoch 23/50\n",
      "8/8 [==============================] - 8s 972ms/step - loss: 0.0011 - accuracy: 1.0000 - val_loss: 0.0059 - val_accuracy: 1.0000\n",
      "Epoch 24/50\n",
      "8/8 [==============================] - 8s 972ms/step - loss: 4.4649e-04 - accuracy: 1.0000 - val_loss: 0.0045 - val_accuracy: 1.0000\n",
      "Epoch 25/50\n",
      "8/8 [==============================] - 8s 950ms/step - loss: 0.0147 - accuracy: 0.9980 - val_loss: 0.0058 - val_accuracy: 1.0000\n",
      "Epoch 26/50\n",
      "8/8 [==============================] - 8s 981ms/step - loss: 0.0071 - accuracy: 0.9990 - val_loss: 0.0296 - val_accuracy: 1.0000\n",
      "Epoch 27/50\n",
      "8/8 [==============================] - 8s 1s/step - loss: 0.0020 - accuracy: 1.0000 - val_loss: 0.0118 - val_accuracy: 0.9940\n",
      "Epoch 28/50\n",
      "8/8 [==============================] - 8s 987ms/step - loss: 0.0055 - accuracy: 0.9980 - val_loss: 0.0305 - val_accuracy: 0.9940\n",
      "Epoch 29/50\n",
      "8/8 [==============================] - 8s 995ms/step - loss: 0.0010 - accuracy: 1.0000 - val_loss: 0.0073 - val_accuracy: 1.0000\n",
      "Epoch 30/50\n",
      "8/8 [==============================] - 8s 1s/step - loss: 1.3100e-04 - accuracy: 1.0000 - val_loss: 0.0049 - val_accuracy: 1.0000\n",
      "Epoch 31/50\n",
      "8/8 [==============================] - 8s 986ms/step - loss: 1.4910e-04 - accuracy: 1.0000 - val_loss: 0.0036 - val_accuracy: 1.0000\n",
      "Epoch 32/50\n",
      "8/8 [==============================] - 8s 988ms/step - loss: 0.0077 - accuracy: 0.9969 - val_loss: 0.0103 - val_accuracy: 0.9940\n",
      "Epoch 33/50\n",
      "8/8 [==============================] - 8s 1s/step - loss: 8.4412e-04 - accuracy: 1.0000 - val_loss: 0.0061 - val_accuracy: 0.9970\n",
      "Epoch 34/50\n",
      "8/8 [==============================] - 8s 1s/step - loss: 5.7198e-05 - accuracy: 1.0000 - val_loss: 0.0049 - val_accuracy: 1.0000\n",
      "Epoch 35/50\n",
      "8/8 [==============================] - 9s 1s/step - loss: 0.0098 - accuracy: 0.9969 - val_loss: 0.0023 - val_accuracy: 1.0000\n",
      "Epoch 36/50\n",
      "8/8 [==============================] - 9s 1s/step - loss: 0.0032 - accuracy: 0.9990 - val_loss: 0.0072 - val_accuracy: 1.0000\n",
      "Epoch 37/50\n",
      "8/8 [==============================] - 10s 1s/step - loss: 0.0139 - accuracy: 0.9990 - val_loss: 0.0115 - val_accuracy: 1.0000\n",
      "Epoch 38/50\n",
      "8/8 [==============================] - 11s 1s/step - loss: 1.8415e-04 - accuracy: 1.0000 - val_loss: 0.0073 - val_accuracy: 1.0000\n",
      "Epoch 39/50\n",
      "8/8 [==============================] - 11s 1s/step - loss: 1.8845e-04 - accuracy: 1.0000 - val_loss: 0.0040 - val_accuracy: 1.0000\n",
      "Epoch 40/50\n",
      "8/8 [==============================] - 12s 1s/step - loss: 3.6133e-05 - accuracy: 1.0000 - val_loss: 0.0033 - val_accuracy: 1.0000\n",
      "Epoch 41/50\n",
      "8/8 [==============================] - 12s 2s/step - loss: 0.0014 - accuracy: 0.9990 - val_loss: 3.3353e-04 - val_accuracy: 1.0000\n",
      "Epoch 42/50\n",
      "8/8 [==============================] - 12s 2s/step - loss: 2.2395e-05 - accuracy: 1.0000 - val_loss: 5.1805e-04 - val_accuracy: 1.0000\n",
      "Epoch 43/50\n",
      "8/8 [==============================] - 12s 2s/step - loss: 7.5413e-05 - accuracy: 1.0000 - val_loss: 8.3388e-04 - val_accuracy: 1.0000\n",
      "Epoch 44/50\n",
      "8/8 [==============================] - 13s 2s/step - loss: 6.6493e-06 - accuracy: 1.0000 - val_loss: 6.2423e-04 - val_accuracy: 1.0000\n",
      "Epoch 45/50\n",
      "8/8 [==============================] - 14s 2s/step - loss: 2.9360e-05 - accuracy: 1.0000 - val_loss: 1.9805e-04 - val_accuracy: 1.0000\n",
      "Epoch 46/50\n",
      "8/8 [==============================] - 13s 2s/step - loss: 2.0138e-04 - accuracy: 1.0000 - val_loss: 7.7797e-05 - val_accuracy: 1.0000\n",
      "Epoch 47/50\n",
      "8/8 [==============================] - 13s 2s/step - loss: 0.0093 - accuracy: 0.9990 - val_loss: 0.0039 - val_accuracy: 0.9970\n",
      "Epoch 48/50\n",
      "8/8 [==============================] - 13s 2s/step - loss: 5.3065e-05 - accuracy: 1.0000 - val_loss: 0.0024 - val_accuracy: 1.0000\n",
      "Epoch 49/50\n",
      "8/8 [==============================] - 12s 2s/step - loss: 6.9916e-05 - accuracy: 1.0000 - val_loss: 7.7373e-04 - val_accuracy: 1.0000\n",
      "Epoch 50/50\n",
      "8/8 [==============================] - 13s 2s/step - loss: 0.0091 - accuracy: 0.9990 - val_loss: 6.4691e-05 - val_accuracy: 1.0000\n"
     ]
    }
   ],
   "source": [
    "history = model.fit(\n",
    "  train_generator,\n",
    "  steps_per_epoch=8,\n",
    "  validation_data=validation_generator,\n",
    "  epochs=50,\n",
    "  verbose=1,\n",
    "  shuffle=True\n",
    ")"
   ]
  },
  {
   "cell_type": "code",
   "execution_count": 7,
   "metadata": {},
   "outputs": [
    {
     "data": {
      "image/png": "[encoded data removed]",
      "text/plain": [
       "<Figure size 432x288 with 1 Axes>"
      ]
     },
     "metadata": {
      "needs_background": "light"
     },
     "output_type": "display_data"
    }
   ],
   "source": [
    "y_Train = history.history['accuracy']\n",
    "y_validation = history.history['val_accuracy']\n",
    "\n",
    "x_len = np.arange(len(y_validation))\n",
    "plt.plot(x_len, y_Train, marker='.', c='red', label=\"Train-set accuracy\")\n",
    "plt.plot(x_len, y_validation, marker='.', c='blue', label=\"validation-set accuracy\")\n",
    "\n",
    "\n",
    "plt.legend()\n",
    "plt.grid()\n",
    "plt.xlabel('epoch')\n",
    "plt.ylabel('accuracy')\n",
    "plt.show()"
   ]
  },
  {
   "cell_type": "code",
   "execution_count": 8,
   "metadata": {},
   "outputs": [
    {
     "data": {
      "image/png": "[encoded data removed]",
      "text/plain": [
       "<Figure size 432x288 with 1 Axes>"
      ]
     },
     "metadata": {
      "needs_background": "light"
     },
     "output_type": "display_data"
    }
   ],
   "source": [
    "y_vloss = history.history['val_loss']\n",
    "y_loss = history.history['loss']\n",
    "\n",
    "x_len = np.arange(len(y_loss))\n",
    "plt.plot(x_len, y_vloss, marker='.', c='red', label=\"Validation-set Loss\")\n",
    "plt.plot(x_len, y_loss, marker='.', c='blue', label=\"Train-set Loss\")\n",
    "\n",
    "plt.legend(loc='upper right')\n",
    "plt.grid()\n",
    "plt.xlabel('epoch')\n",
    "plt.ylabel('loss')\n",
    "plt.show()"
   ]
  },
  {
   "cell_type": "code",
   "execution_count": null,
   "metadata": {},
   "outputs": [],
   "source": [
    "model.evaluate(train_generator)"
   ]
  },
  {
   "cell_type": "code",
   "execution_count": null,
   "metadata": {},
   "outputs": [],
   "source": [
    "import shutil\n",
    "from tensorflow.keras.preprocessing import image\n",
    "\n",
    "Testfolder_path = \"/Users/jiseungmin/Desktop/chunnamAIcontest/test_data/\"\n",
    "file_list = os.listdir(Testfolder_path)\n",
    "Currentpath = os.getcwd()\n",
    "\n",
    "f = open(\"불량검사.txt\",\"wt\") \n",
    "for file in file_list :\n",
    "    img=image.load_img(Testfolder_path+file, target_size=(300, 300))\n",
    "\n",
    "    x=image.img_to_array(img)\n",
    "    x=np.expand_dims(x, axis=0)\n",
    "    images = np.vstack([x])\n",
    "\n",
    "    classes = model.predict(images, batch_size=10)\n",
    "  \n",
    "    if classes[0]>0:\n",
    "        print()\n",
    "        if not os.path.exists(Currentpath+\"/pass\"):\n",
    "             os.makedirs(Currentpath+\"/pass\")\n",
    "        shutil.move(Testfolder_path+file, Currentpath+\"/pass\")\n",
    "        f.write(file + \" ----- pass\\n\")\n",
    "    else:\n",
    "        print()\n",
    "        if not os.path.exists(Currentpath+\"/bad\"):\n",
    "             os.makedirs(Currentpath+\"/bad\")\n",
    "        shutil.move(Testfolder_path+file, Currentpath+\"/bad\")\n",
    "        f.write(file + \" ----- bad\\n\")\n",
    "\n",
    "f.close()"
   ]
  },
  {
   "cell_type": "code",
   "execution_count": null,
   "metadata": {},
   "outputs": [],
   "source": [
    "model.save('livet_badgood_class_cnn.h5')"
   ]
  }
 ],
 "metadata": {
  "kernelspec": {
   "display_name": "tf",
   "language": "python",
   "name": "python3"
  },
  "language_info": {
   "codemirror_mode": {
    "name": "ipython",
    "version": 3
   },
   "file_extension": ".py",
   "mimetype": "text/x-python",
   "name": "python",
   "nbconvert_exporter": "python",
   "pygments_lexer": "ipython3",
   "version": "3.8.13"
  },
  "orig_nbformat": 4,
  "vscode": {
   "interpreter": {
    "hash": "4f05e964b4d2e4afbb91fe932de86bd0523d55968cb2083dd8663aabd8c2c6a1"
   }
  }
 },
 "nbformat": 4,
 "nbformat_minor": 2
}
